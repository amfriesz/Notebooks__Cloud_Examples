{
 "cells": [
  {
   "cell_type": "markdown",
   "id": "capital-claim",
   "metadata": {},
   "source": [
    "# Topic 4: Migrating ArcGIS Function/Workflows"
   ]
  },
  {
   "cell_type": "markdown",
   "id": "institutional-description",
   "metadata": {},
   "source": [
    "---"
   ]
  },
  {
   "cell_type": "markdown",
   "id": "divided-television",
   "metadata": {},
   "source": [
    "|        |Python Packages                    |\n",
    "|---------------|----------------------------------|\n",
    "|Vector Data    |OGR, [Fiona](https://fiona.readthedocs.io/en/latest/manual.html), [Shapely](https://shapely.readthedocs.io/en/stable/manual.html), [GeoPandas](https://geopandas.org/docs.html)                        |\n",
    "|Raster Data    |GDAL, [Rasterio](https://rasterio.readthedocs.io/en/latest/), [Xarray](https://xarray.pydata.org/en/stable/index.html), [rioxarray](https://corteva.github.io/rioxarray/stable/)                     |\n",
    "|Visualization  |[Matplotlib](https://matplotlib.org/stable/contents.html), [Bokeh](https://docs.bokeh.org/en/latest/), [Folium](https://python-visualization.github.io/folium/), [Cartopy](https://scitools.org.uk/cartopy/docs/latest/index.html), [HoloViz](https://holoviz.org/)    |"
   ]
  },
  {
   "cell_type": "markdown",
   "id": "alike-property",
   "metadata": {},
   "source": [
    "|How do I...|Options|Reference|\n",
    "|---|---|---|\n",
    "|Read a GeoJSON or shapefile    |`fiona.open()`, `geopandas.read_file()`    |[1](https://fiona.readthedocs.io/en/latest/manual.html), [2](https://geopandas.org/docs/user_guide/io.html)|\n",
    "|Read raster data|`rasterio.open()`, `rioxarray.open_rasterio()`|[1](https://rasterio.readthedocs.io/en/latest/topics/reading.html), [2](https://corteva.github.io/rioxarray/stable/examples/COG.html)|\n",
    "|Sample|`rasterio` + `geopandas` or `rasterstats.point_query()`    |[1](https://gis.stackexchange.com/questions/317391/python-extract-raster-values-at-point-locations/324830), [2](https://pythonhosted.org/rasterstats/manual.html#basic-example)    |\n",
    "|Zonal Statistics|`rasterstats.zonal_stats()`    |[1](https://pythonhosted.org/rasterstats/manual.html#zonal-statistics)    |\n",
    "|Con|`numpy.where()`, `xarray.where()`|[1](https://numpy.org/doc/stable/reference/generated/numpy.where.html), [2](http://xarray.pydata.org/en/stable/generated/xarray.where.html)|\n",
    "|SetNull|**ex:** rasterio_array[rasterio_array==0] = np.nan, ds.where(ds['var'] != -9999.)|[1](https://stackoverflow.com/questions/50123923/replace-values-in-xarray-dataset-with-none)|\n",
    "|Overlay | `geopandas.overlay()`    ||\n",
    "|RasterCalculator|**ex:** ndvi = (nir_rst - red_rst) / (nir_rst + red_rst), ndvi.mean(), ndvi.std()||\n",
    "|Clip Raster|`rasterio.mask.mask(..., crop=True)`|[1](https://rasterio.readthedocs.io/en/latest/topics/masking-by-shapefile.html)|\n",
    "|Extract by Mask|`rasterio.mask.mask()`||\n",
    "|Reproject|`rasterio.warp.reproject()`, `xarray_obj.rio.reproject()`|[1](https://rasterio.readthedocs.io/en/latest/api/rasterio.warp.html), [2](https://rasterio.readthedocs.io/en/latest/topics/reproject.html), [3](https://corteva.github.io/rioxarray/stable/rioxarray.html#rioxarray.raster_array.RasterArray.reproject)|"
   ]
  },
  {
   "cell_type": "markdown",
   "id": "arabic-montana",
   "metadata": {},
   "source": [
    "# Resources\n",
    "\n",
    "- https://automating-gis-processes.github.io/CSC18/index.html"
   ]
  },
  {
   "cell_type": "markdown",
   "id": "informative-flashing",
   "metadata": {},
   "source": [
    "---"
   ]
  },
  {
   "cell_type": "markdown",
   "id": "needed-million",
   "metadata": {},
   "source": [
    "# [Next: Topic 5 - Visualizations](Topic_5__Visualizations.ipynb)"
   ]
  }
 ],
 "metadata": {
  "kernelspec": {
   "display_name": "Python [conda env:pangeo] *",
   "language": "python",
   "name": "conda-env-pangeo-py"
  },
  "language_info": {
   "codemirror_mode": {
    "name": "ipython",
    "version": 3
   },
   "file_extension": ".py",
   "mimetype": "text/x-python",
   "name": "python",
   "nbconvert_exporter": "python",
   "pygments_lexer": "ipython3",
   "version": "3.7.10"
  }
 },
 "nbformat": 4,
 "nbformat_minor": 5
}
