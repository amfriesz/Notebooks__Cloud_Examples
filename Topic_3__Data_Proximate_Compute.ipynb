{
 "cells": [
  {
   "cell_type": "markdown",
   "id": "compressed-vehicle",
   "metadata": {},
   "source": [
    "# Topic 3: Analysis In-Place / Data Proximate Compute "
   ]
  },
  {
   "cell_type": "markdown",
   "id": "extended-tulsa",
   "metadata": {},
   "source": [
    "---"
   ]
  },
  {
   "cell_type": "markdown",
   "id": "complimentary-emerald",
   "metadata": {},
   "source": [
    "## Import Required Packages"
   ]
  },
  {
   "cell_type": "code",
   "execution_count": null,
   "id": "lyric-biology",
   "metadata": {},
   "outputs": [],
   "source": [
    "%matplotlib inline\n",
    "import matplotlib.pyplot as plt\n",
    "from datetime import datetime\n",
    "import os\n",
    "import requests\n",
    "from collections import defaultdict\n",
    "import numpy as np\n",
    "import xarray as xr\n",
    "import rasterio as rio        # https://rasterio.readthedocs.io/en/latest/\n",
    "from rasterio.plot import show\n",
    "import rioxarray       # https://corteva.github.io/rioxarray/stable/index.html\n",
    "import geopandas\n",
    "import pyproj\n",
    "from pyproj import Proj\n",
    "from shapely.ops import transform\n",
    "import geoviews as gv\n",
    "from cartopy import crs\n",
    "import hvplot.xarray\n",
    "import holoviews as hv\n",
    "gv.extension('bokeh', 'matplotlib')"
   ]
  },
  {
   "cell_type": "markdown",
   "id": "similar-concord",
   "metadata": {},
   "source": [
    "---"
   ]
  },
  {
   "cell_type": "markdown",
   "id": "innovative-uruguay",
   "metadata": {},
   "source": [
    "## Set GDAL Configuration Options"
   ]
  },
  {
   "cell_type": "markdown",
   "id": "southwest-metadata",
   "metadata": {},
   "source": [
    "**Set the gdal configuration options for this session**"
   ]
  },
  {
   "cell_type": "code",
   "execution_count": null,
   "id": "behind-turtle",
   "metadata": {},
   "outputs": [],
   "source": [
    "env = dict(GDAL_DISABLE_READDIR_ON_OPEN='EMPTY_DIR', \n",
    "                   AWS_NO_SIGN_REQUEST='YES',\n",
    "                   GDAL_MAX_RAW_BLOCK_CACHE_SIZE='200000000',\n",
    "                   GDAL_SWATH_SIZE='200000000',\n",
    "                   VSI_CURL_CACHE_SIZE='200000000',\n",
    "                   GDAL_HTTP_COOKIEFILE=os.path.expanduser('~/cookies.txt'),\n",
    "                   GDAL_HTTP_COOKIEJAR=os.path.expanduser('~/cookies.txt'))\n",
    "\n",
    "\n",
    "os.environ.update(env)"
   ]
  },
  {
   "cell_type": "markdown",
   "id": "organic-litigation",
   "metadata": {},
   "source": [
    "**Read in geoJSON for subsetting**"
   ]
  },
  {
   "cell_type": "code",
   "execution_count": null,
   "id": "social-tobacco",
   "metadata": {},
   "outputs": [],
   "source": [
    "field = geopandas.read_file('./data/ne_w_agfields.geojson')\n",
    "fieldShape = field['geometry'][0]  "
   ]
  },
  {
   "cell_type": "code",
   "execution_count": null,
   "id": "fancy-magazine",
   "metadata": {},
   "outputs": [],
   "source": [
    "foa_url = \"https://lpdaac.earthdata.nasa.gov/lp-prod-protected/HLSS30.015/HLS.S30.T13TGF.2020191T172901.v1.5.B04.tif\"\n",
    "with rio.open(foa_url) as src:\n",
    "    hls_proj = src.crs.to_string()"
   ]
  },
  {
   "cell_type": "code",
   "execution_count": null,
   "id": "extensive-trash",
   "metadata": {},
   "outputs": [],
   "source": [
    "geo_CRS = Proj('+proj=longlat +datum=WGS84 +no_defs', preserve_units=True)   # Source coordinate system of the ROI\n",
    "project = pyproj.Transformer.from_proj(geo_CRS, hls_proj)                    # Set up the transformation\n",
    "fsUTM = transform(project.transform, fieldShape) "
   ]
  },
  {
   "cell_type": "markdown",
   "id": "nuclear-imaging",
   "metadata": {},
   "source": [
    "**Query the LP DAAC Provider STAC Catalog**"
   ]
  },
  {
   "cell_type": "code",
   "execution_count": null,
   "id": "alive-finland",
   "metadata": {},
   "outputs": [],
   "source": [
    "cmr_stac_search = 'https://cmr.earthdata.nasa.gov/stac/LPCLOUD/search'  "
   ]
  },
  {
   "cell_type": "code",
   "execution_count": null,
   "id": "beautiful-science",
   "metadata": {},
   "outputs": [],
   "source": [
    "params = {\n",
    "    'limit': 100,\n",
    "    'bbox': '-101.67271614074707,41.04754380304359,-101.65344715118408,41.06213891056728',\n",
    "    'datetime': '2020-01-01T00:00:00Z/2021-01-01T23:59:59Z',\n",
    "    'collections': ['HLSS30.v1.5', 'HLSL30.v1.5']\n",
    "}"
   ]
  },
  {
   "cell_type": "code",
   "execution_count": null,
   "id": "domestic-there",
   "metadata": {},
   "outputs": [],
   "source": [
    "hls_items = requests.post(cmr_stac_search, json=params).json()['features']"
   ]
  },
  {
   "cell_type": "code",
   "execution_count": null,
   "id": "retired-brave",
   "metadata": {},
   "outputs": [],
   "source": [
    "evi_band_links = []\n",
    "for i in hls_items:\n",
    "    if i['collection'] == 'HLSS30.v1.5':\n",
    "        evi_bands = ['B8A', 'B04', 'B02', 'Fmask'] # NIR RED BLUE Quality for S30\n",
    "    else:\n",
    "        evi_bands = ['B05', 'B04', 'B02', 'Fmask'] # NIR RED BLUE Quality for L30\n",
    "        \n",
    "    for a in i['assets']:\n",
    "        if any(b==a for b in evi_bands):\n",
    "            evi_band_links.append(i['assets'][a]['href'])"
   ]
  },
  {
   "cell_type": "code",
   "execution_count": null,
   "id": "shared-blood",
   "metadata": {},
   "outputs": [],
   "source": [
    "tile_dicts = defaultdict(list)\n",
    "for l in evi_band_links:\n",
    "    tile = l.split('.')[-6]\n",
    "    tile_dicts[tile].append(l)"
   ]
  },
  {
   "cell_type": "code",
   "execution_count": null,
   "id": "absent-portuguese",
   "metadata": {},
   "outputs": [],
   "source": [
    "tile_links_T14TKL = tile_dicts['T14TKL']\n",
    "tile_links_T13TGF = tile_dicts['T13TGF']"
   ]
  },
  {
   "cell_type": "code",
   "execution_count": null,
   "id": "suffering-necklace",
   "metadata": {},
   "outputs": [],
   "source": [
    "bands_dicts = defaultdict(list)\n",
    "for b in tile_links_T13TGF:\n",
    "    band = b.split('.')[-2]\n",
    "    bands_dicts[band].append(b)"
   ]
  },
  {
   "cell_type": "code",
   "execution_count": null,
   "id": "quality-blade",
   "metadata": {},
   "outputs": [],
   "source": [
    "bands_dicts['B04'][:10]"
   ]
  },
  {
   "cell_type": "code",
   "execution_count": null,
   "id": "according-mississippi",
   "metadata": {},
   "outputs": [],
   "source": [
    "with open('files.txt', 'w') as f:\n",
    "    lines = [x.replace('https://lpdaac.earthdata.nasa.gov/', '/vsis3/') + '\\n' for x in bands_dicts['B04'][:10]]\n",
    "    f.writelines(lines)"
   ]
  },
  {
   "cell_type": "markdown",
   "id": "miniature-raise",
   "metadata": {},
   "source": [
    "**Start up a dask client**"
   ]
  },
  {
   "cell_type": "code",
   "execution_count": null,
   "id": "employed-construction",
   "metadata": {},
   "outputs": [],
   "source": [
    "from dask.distributed import Client"
   ]
  },
  {
   "cell_type": "code",
   "execution_count": null,
   "id": "prospective-tissue",
   "metadata": {},
   "outputs": [],
   "source": [
    "client = Client(n_workers=2)\n",
    "client"
   ]
  },
  {
   "cell_type": "markdown",
   "id": "second-prototype",
   "metadata": {},
   "source": [
    "**Create a function for read HLS data as a time series xarray** "
   ]
  },
  {
   "cell_type": "code",
   "execution_count": null,
   "id": "difficult-latitude",
   "metadata": {},
   "outputs": [],
   "source": [
    "def create_ts_xr(path_list):\n",
    "    time_j_list = [x.split('.')[-5].split('T')[0] for x in path_list]\n",
    "    # Convert date in path from 'day of year' to datetime\n",
    "    time_d_list = [datetime.strptime(t, '%Y%j') for t in time_j_list]\n",
    "    # Create a xarray time variable\n",
    "    time_var = xr.Variable('time', time_d_list)\n",
    "    # Chunk the dask array\n",
    "    #chunks = {'x': 512, 'y': 512}\n",
    "    chunks = {'x':1024, 'y': 1024}\n",
    "    \n",
    "    da = xr.concat([rioxarray.open_rasterio(f, lock=False, chunks=chunks) for f in path_list], dim=time_var)\n",
    "    \n",
    "    return da"
   ]
  },
  {
   "cell_type": "markdown",
   "id": "isolated-designer",
   "metadata": {},
   "source": [
    "**Create an xarray time series for the near-infrared band (B8A)**"
   ]
  },
  {
   "cell_type": "code",
   "execution_count": null,
   "id": "advance-equality",
   "metadata": {},
   "outputs": [],
   "source": [
    "%%time\n",
    "nir = create_ts_xr(bands_dicts['B8A'])"
   ]
  },
  {
   "cell_type": "code",
   "execution_count": null,
   "id": "democratic-demand",
   "metadata": {},
   "outputs": [],
   "source": [
    "nir"
   ]
  },
  {
   "cell_type": "markdown",
   "id": "recreational-sherman",
   "metadata": {},
   "source": [
    "**Clip the xarray by our geoJSON boundary**"
   ]
  },
  {
   "cell_type": "code",
   "execution_count": null,
   "id": "removed-imaging",
   "metadata": {},
   "outputs": [],
   "source": [
    "nir_clipped = nir.rio.clip([fsUTM]).squeeze('band', drop=True)\n",
    "nir_clipped"
   ]
  },
  {
   "cell_type": "markdown",
   "id": "marine-pledge",
   "metadata": {},
   "source": [
    "**Load the time series into memory**"
   ]
  },
  {
   "cell_type": "code",
   "execution_count": null,
   "id": "governing-cleaning",
   "metadata": {},
   "outputs": [],
   "source": [
    "nir_clipped = nir_clipped.load()\n",
    "nir_clipped"
   ]
  },
  {
   "cell_type": "code",
   "execution_count": null,
   "id": "infectious-papua",
   "metadata": {},
   "outputs": [],
   "source": [
    "nir_clipped.hvplot.image(x = 'x', y = 'y', crs = hls_proj, cmap='PuOr', width=800, height=600, colorbar=True)"
   ]
  },
  {
   "cell_type": "markdown",
   "id": "together-least",
   "metadata": {},
   "source": [
    "**Read, clip, and load time series for the red band (BO4)**"
   ]
  },
  {
   "cell_type": "code",
   "execution_count": null,
   "id": "regulated-sleeve",
   "metadata": {},
   "outputs": [],
   "source": [
    "red = create_ts_xr(bands_dicts['B04'])"
   ]
  },
  {
   "cell_type": "code",
   "execution_count": null,
   "id": "unknown-motivation",
   "metadata": {},
   "outputs": [],
   "source": [
    "red"
   ]
  },
  {
   "cell_type": "code",
   "execution_count": null,
   "id": "controlling-merchandise",
   "metadata": {},
   "outputs": [],
   "source": [
    "red_clipped = red.rio.clip([fsUTM]).squeeze('band', drop=True).load()\n",
    "red_clipped"
   ]
  },
  {
   "cell_type": "code",
   "execution_count": null,
   "id": "molecular-skirt",
   "metadata": {},
   "outputs": [],
   "source": [
    "red_clipped.hvplot.image(x = 'x', y = 'y', crs = hls_proj, cmap='PuOr', width=800, height=600, colorbar=True)"
   ]
  },
  {
   "cell_type": "markdown",
   "id": "fixed-pixel",
   "metadata": {},
   "source": [
    "**Calculate NDVI using the clipped nir and red xarrays**"
   ]
  },
  {
   "cell_type": "code",
   "execution_count": null,
   "id": "revised-cleaning",
   "metadata": {},
   "outputs": [],
   "source": [
    "ndvi = (nir_clipped - red_clipped) / (nir_clipped + red_clipped)"
   ]
  },
  {
   "cell_type": "code",
   "execution_count": null,
   "id": "neural-sacramento",
   "metadata": {},
   "outputs": [],
   "source": [
    "ndvi"
   ]
  },
  {
   "cell_type": "code",
   "execution_count": null,
   "id": "secure-amount",
   "metadata": {},
   "outputs": [],
   "source": [
    "ndvi.hvplot.image(x = 'x', y = 'y', crs = hls_proj, cmap='YlGn', width=800, height=600, colorbar=True).opts(clim=(0.0, 1.0))"
   ]
  },
  {
   "cell_type": "markdown",
   "id": "empirical-translation",
   "metadata": {},
   "source": [
    "**Use the Fmask to screen out clouds, cloud shadows, snow/ice, and water**"
   ]
  },
  {
   "cell_type": "code",
   "execution_count": null,
   "id": "juvenile-concentrate",
   "metadata": {},
   "outputs": [],
   "source": [
    "%%time\n",
    "fmask = create_ts_xr(bands_dicts['Fmask'])"
   ]
  },
  {
   "cell_type": "code",
   "execution_count": null,
   "id": "hired-johns",
   "metadata": {},
   "outputs": [],
   "source": [
    "fmask"
   ]
  },
  {
   "cell_type": "code",
   "execution_count": null,
   "id": "sitting-victoria",
   "metadata": {},
   "outputs": [],
   "source": [
    "fmask_clipped = fmask.rio.clip([fsUTM]).squeeze('band', drop=True)"
   ]
  },
  {
   "cell_type": "code",
   "execution_count": null,
   "id": "bored-independence",
   "metadata": {},
   "outputs": [],
   "source": [
    "fmask_clipped.sel(time='2020-11-21')"
   ]
  },
  {
   "cell_type": "code",
   "execution_count": null,
   "id": "expected-palmer",
   "metadata": {},
   "outputs": [],
   "source": [
    "f = fmask_clipped.load()"
   ]
  },
  {
   "cell_type": "code",
   "execution_count": null,
   "id": "divided-surface",
   "metadata": {},
   "outputs": [],
   "source": [
    "f.sel(time='2020-11-21')"
   ]
  },
  {
   "cell_type": "markdown",
   "id": "manual-stability",
   "metadata": {},
   "source": [
    "**Keep ndvi data values where Fmask equals 0 (no clouds, no cloud shadow, no snow/ice, no water)**"
   ]
  },
  {
   "cell_type": "code",
   "execution_count": null,
   "id": "fossil-retention",
   "metadata": {},
   "outputs": [],
   "source": [
    "ndvi_filtered = ndvi.where(f==0, np.nan)"
   ]
  },
  {
   "cell_type": "code",
   "execution_count": null,
   "id": "meaningful-knock",
   "metadata": {},
   "outputs": [],
   "source": [
    "ndvi_filtered"
   ]
  },
  {
   "cell_type": "code",
   "execution_count": null,
   "id": "natural-adjustment",
   "metadata": {},
   "outputs": [],
   "source": [
    "ndvi_filtered.sel(time='2020-11-21')"
   ]
  },
  {
   "cell_type": "code",
   "execution_count": null,
   "id": "marine-click",
   "metadata": {},
   "outputs": [],
   "source": [
    "ndvi_filtered.hvplot.image(x = 'x', y = 'y', crs = hls_proj, cmap='YlGn', width=800, height=600, colorbar=True).opts(clim=(0.0, 1.0))"
   ]
  },
  {
   "cell_type": "markdown",
   "id": "lined-channel",
   "metadata": {},
   "source": [
    "**Create a monthly aggregate**"
   ]
  },
  {
   "cell_type": "code",
   "execution_count": null,
   "id": "african-separation",
   "metadata": {},
   "outputs": [],
   "source": [
    "ndvi_filtered.groupby('time.month').mean('time').hvplot.image(x = 'x', y = 'y', crs = hls_proj, groupby='month', cmap='YlGn', width=800, height=600, colorbar=True).opts(clim=(0.0, 1.0))"
   ]
  },
  {
   "cell_type": "markdown",
   "id": "alpha-amsterdam",
   "metadata": {},
   "source": [
    "## References\n",
    "\n",
    "- https://tutorial.dask.org/index.html\n",
    "- https://examples.dask.org/applications/satellite-imagery-geotiff.html"
   ]
  },
  {
   "cell_type": "markdown",
   "id": "joint-green",
   "metadata": {},
   "source": [
    "---"
   ]
  },
  {
   "cell_type": "markdown",
   "id": "introductory-literature",
   "metadata": {},
   "source": [
    "# [Next: Topic 4 - Migrating ArcGIS Function](Topic_4_Migrating_ArcGIS_Function_Workflows.ipynb)"
   ]
  },
  {
   "cell_type": "markdown",
   "id": "passive-safety",
   "metadata": {},
   "source": []
  }
 ],
 "metadata": {
  "kernelspec": {
   "display_name": "Python [conda env:pangeo] *",
   "language": "python",
   "name": "conda-env-pangeo-py"
  },
  "language_info": {
   "codemirror_mode": {
    "name": "ipython",
    "version": 3
   },
   "file_extension": ".py",
   "mimetype": "text/x-python",
   "name": "python",
   "nbconvert_exporter": "python",
   "pygments_lexer": "ipython3",
   "version": "3.7.10"
  }
 },
 "nbformat": 4,
 "nbformat_minor": 5
}
