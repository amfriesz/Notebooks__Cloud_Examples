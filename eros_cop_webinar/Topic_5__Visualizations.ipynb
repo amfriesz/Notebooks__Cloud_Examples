{
 "cells": [
  {
   "cell_type": "markdown",
   "id": "postal-exhibition",
   "metadata": {},
   "source": [
    "# Topic 5: Visualizations"
   ]
  },
  {
   "cell_type": "markdown",
   "id": "hazardous-realtor",
   "metadata": {},
   "source": [
    "---"
   ]
  },
  {
   "cell_type": "markdown",
   "id": "sporting-manchester",
   "metadata": {},
   "source": [
    "## Import Required Packages"
   ]
  },
  {
   "cell_type": "code",
   "execution_count": null,
   "id": "piano-association",
   "metadata": {},
   "outputs": [],
   "source": [
    "%matplotlib inline\n",
    "import matplotlib.pyplot as plt\n",
    "import os\n",
    "from datetime import datetime\n",
    "import xarray as xr\n",
    "import rioxarray\n",
    "import rasterio as rio        # https://rasterio.readthedocs.io/en/latest/\n",
    "from rasterio.plot import show\n",
    "import hvplot.xarray\n",
    "import holoviews as hv\n",
    "import pickle"
   ]
  },
  {
   "cell_type": "markdown",
   "id": "clean-collins",
   "metadata": {},
   "source": [
    "**List geoTIFF files in `data` directory**"
   ]
  },
  {
   "cell_type": "code",
   "execution_count": null,
   "id": "discrete-armenia",
   "metadata": {},
   "outputs": [],
   "source": [
    "file_list = [f'./data/{x}' for x in os.listdir('./data') if '.tif' in x]\n",
    "file_list"
   ]
  },
  {
   "cell_type": "markdown",
   "id": "distinguished-simon",
   "metadata": {},
   "source": [
    "**Load Red, Blue, and Green COG files (stored locally)**"
   ]
  },
  {
   "cell_type": "code",
   "execution_count": null,
   "id": "assured-expert",
   "metadata": {},
   "outputs": [],
   "source": [
    "red = rioxarray.open_rasterio('./data/HLS.S30.T13TGF.2020191T172901.v1.5.B04.tif')\n",
    "red"
   ]
  },
  {
   "cell_type": "code",
   "execution_count": null,
   "id": "twelve-small",
   "metadata": {},
   "outputs": [],
   "source": [
    "blue = rioxarray.open_rasterio('./data/HLS.S30.T13TGF.2020191T172901.v1.5.B02.tif')\n",
    "green = rioxarray.open_rasterio('./data/HLS.S30.T13TGF.2020191T172901.v1.5.B03.tif')"
   ]
  },
  {
   "cell_type": "markdown",
   "id": "excited-fusion",
   "metadata": {},
   "source": [
    "## Matplotlib"
   ]
  },
  {
   "cell_type": "markdown",
   "id": "closing-giving",
   "metadata": {},
   "source": [
    "**rasterio and xarray plotting leverages the matplotlib library**"
   ]
  },
  {
   "cell_type": "code",
   "execution_count": null,
   "id": "understood-velvet",
   "metadata": {},
   "outputs": [],
   "source": [
    "red.squeeze().plot.imshow()"
   ]
  },
  {
   "cell_type": "code",
   "execution_count": null,
   "id": "trained-project",
   "metadata": {},
   "outputs": [],
   "source": [
    "# Initialize subplots\n",
    "fig, (ax1, ax2, ax3) = plt.subplots(ncols=3, nrows=1, figsize=(14,7), sharey=True)\n",
    "\n",
    "# Plot Red, Green and Blue (rgb)\n",
    "show((red.squeeze()), cmap='Reds', ax=ax1)\n",
    "show((green.squeeze()), cmap='Greens', ax=ax2)\n",
    "show((blue.squeeze()), cmap='Blues', ax=ax3)\n",
    "\n",
    "# Add titles\n",
    "ax1.set_title(\"Red\")\n",
    "ax2.set_title(\"Green\")\n",
    "ax3.set_title(\"Blue\")"
   ]
  },
  {
   "cell_type": "code",
   "execution_count": null,
   "id": "plain-bundle",
   "metadata": {},
   "outputs": [],
   "source": [
    "# Read the grid values into numpy arrays\n",
    "r = red.squeeze().values\n",
    "g = green.squeeze().values\n",
    "b = blue.squeeze().values\n",
    "\n",
    "# Function to normalize the grid values\n",
    "def normalize(array):\n",
    "    \"\"\"Normalizes numpy arrays into scale 0.0 - 1.0\"\"\"\n",
    "    array_min, array_max = array.min(), array.max()\n",
    "    return ((array - array_min)/(array_max - array_min))\n",
    "\n",
    "# Normalize the bands\n",
    "redn = normalize(r)\n",
    "greenn = normalize(g)\n",
    "bluen = normalize(b)\n",
    "\n",
    "print(\"Normalized bands\")\n",
    "print(redn.min(), '-', redn.max(), 'mean:', redn.mean())\n",
    "print(greenn.min(), '-', greenn.max(), 'mean:', greenn.mean())\n",
    "print(bluen.min(), '-', bluen.max(), 'mean:', bluen.mean())"
   ]
  },
  {
   "cell_type": "code",
   "execution_count": null,
   "id": "digital-incentive",
   "metadata": {},
   "outputs": [],
   "source": [
    "import numpy as np\n",
    "# Create RGB natural color composite\n",
    "rgb = np.dstack((redn, greenn, bluen))\n",
    "\n",
    "# Let's see how our color composite looks like\n",
    "plt.figure(figsize = (20,10))\n",
    "plt.imshow(rgb)"
   ]
  },
  {
   "cell_type": "markdown",
   "id": "corresponding-disability",
   "metadata": {},
   "source": [
    "## [HoloViz](https://holoviz.org/)"
   ]
  },
  {
   "cell_type": "markdown",
   "id": "minor-retro",
   "metadata": {},
   "source": [
    "![HoloViz Maintained Packages](img/pn_hp_hv_gv_ds_pa_cs.png)"
   ]
  },
  {
   "cell_type": "code",
   "execution_count": null,
   "id": "informative-discrimination",
   "metadata": {},
   "outputs": [],
   "source": [
    "red"
   ]
  },
  {
   "cell_type": "code",
   "execution_count": null,
   "id": "refined-pharmaceutical",
   "metadata": {},
   "outputs": [],
   "source": [
    "red[0].hvplot.image()"
   ]
  },
  {
   "cell_type": "code",
   "execution_count": null,
   "id": "alpine-gregory",
   "metadata": {},
   "outputs": [],
   "source": [
    "hls_proj = red.rio.crs.to_string()"
   ]
  },
  {
   "cell_type": "code",
   "execution_count": null,
   "id": "wound-intervention",
   "metadata": {},
   "outputs": [],
   "source": [
    "red[0].hvplot.image(x='x', y='y', crs = hls_proj, cmap='Reds', width=800, height=600, colorbar=True, tiles = 'ESRI')"
   ]
  },
  {
   "cell_type": "code",
   "execution_count": null,
   "id": "burning-miniature",
   "metadata": {},
   "outputs": [],
   "source": [
    "# Load polygon from disc\n",
    "with open('./data/fsUTM', \"rb\") as poly_file:\n",
    "    fsUTM = pickle.load(poly_file)"
   ]
  },
  {
   "cell_type": "code",
   "execution_count": null,
   "id": "gentle-prerequisite",
   "metadata": {},
   "outputs": [],
   "source": [
    "red_plot = red[0].rio.clip([fsUTM]).hvplot.image(x='x', y='y', crs = hls_proj, cmap='Reds', width=800, height=600, colorbar=True,  tiles = 'ESRI')\n",
    "red_plot"
   ]
  },
  {
   "cell_type": "code",
   "execution_count": null,
   "id": "artificial-freeze",
   "metadata": {},
   "outputs": [],
   "source": [
    "import pandas as pd\n",
    "chunks=dict(band=1, x=1024, y=1024)\n",
    "red_ts = rioxarray.open_rasterio('data/timeseries/red_stack.vrt')\n",
    "red_ts"
   ]
  },
  {
   "cell_type": "code",
   "execution_count": null,
   "id": "spanish-paris",
   "metadata": {},
   "outputs": [],
   "source": [
    "red_ts = red_ts.rename({'band':'time'})\n",
    "file_list = [f for f in os.listdir('data/timeseries/') if '.tif' in f]\n",
    "time_j_list = [x.split('.')[-5].split('T')[0] for x in file_list]\n",
    "red_ts['time'] = [datetime.strptime(t, '%Y%j') for t in time_j_list]"
   ]
  },
  {
   "cell_type": "code",
   "execution_count": null,
   "id": "downtown-remark",
   "metadata": {},
   "outputs": [],
   "source": [
    "red_ts"
   ]
  },
  {
   "cell_type": "code",
   "execution_count": null,
   "id": "satellite-governor",
   "metadata": {},
   "outputs": [],
   "source": [
    "red_ts.hvplot.image(x='x', y='y', crs = hls_proj, cmap='Reds', width=800, height=600, tiles='ESRI')"
   ]
  }
 ],
 "metadata": {
  "kernelspec": {
   "display_name": "Python [conda env:pangeo] *",
   "language": "python",
   "name": "conda-env-pangeo-py"
  },
  "language_info": {
   "codemirror_mode": {
    "name": "ipython",
    "version": 3
   },
   "file_extension": ".py",
   "mimetype": "text/x-python",
   "name": "python",
   "nbconvert_exporter": "python",
   "pygments_lexer": "ipython3",
   "version": "3.7.10"
  }
 },
 "nbformat": 4,
 "nbformat_minor": 5
}
